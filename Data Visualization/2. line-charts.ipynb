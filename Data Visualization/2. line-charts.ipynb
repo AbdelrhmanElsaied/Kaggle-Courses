{
 "cells": [
  {
   "cell_type": "markdown",
   "id": "1c509b32",
   "metadata": {
    "papermill": {
     "duration": 0.00691,
     "end_time": "2022-07-29T23:25:58.653562",
     "exception": false,
     "start_time": "2022-07-29T23:25:58.646652",
     "status": "completed"
    },
    "tags": []
   },
   "source": [
    "**This notebook is an exercise in the [Data Visualization](https://www.kaggle.com/learn/data-visualization) course.  You can reference the tutorial at [this link](https://www.kaggle.com/alexisbcook/line-charts).**\n",
    "\n",
    "---\n"
   ]
  },
  {
   "cell_type": "markdown",
   "id": "2d0cde0a",
   "metadata": {
    "papermill": {
     "duration": 0.005357,
     "end_time": "2022-07-29T23:25:58.664754",
     "exception": false,
     "start_time": "2022-07-29T23:25:58.659397",
     "status": "completed"
    },
    "tags": []
   },
   "source": [
    "In this exercise, you will use your new knowledge to propose a solution to a real-world scenario. To succeed, you will need to import data into Python, answer questions using the data, and generate **line charts** to understand patterns in the data.\n",
    "\n",
    "## Scenario\n",
    "\n",
    "You have recently been hired to manage the museums in the City of Los Angeles. Your first project focuses on the four museums pictured in the images below.\n",
    "\n",
    "![ex1_museums](https://i.imgur.com/pFYL8J1.png)\n",
    "\n",
    "You will leverage data from the Los Angeles [Data Portal](https://data.lacity.org/) that tracks monthly visitors to each museum.  \n",
    "\n",
    "![ex1_xlsx](https://i.imgur.com/mGWYlym.png)\n",
    "\n",
    "## Setup\n",
    "\n",
    "Run the next cell to import and configure the Python libraries that you need to complete the exercise."
   ]
  },
  {
   "cell_type": "code",
   "execution_count": 1,
   "id": "caa65563",
   "metadata": {
    "execution": {
     "iopub.execute_input": "2022-07-29T23:25:58.678443Z",
     "iopub.status.busy": "2022-07-29T23:25:58.677654Z",
     "iopub.status.idle": "2022-07-29T23:25:59.831046Z",
     "shell.execute_reply": "2022-07-29T23:25:59.829844Z"
    },
    "papermill": {
     "duration": 1.16382,
     "end_time": "2022-07-29T23:25:59.834225",
     "exception": false,
     "start_time": "2022-07-29T23:25:58.670405",
     "status": "completed"
    },
    "tags": []
   },
   "outputs": [
    {
     "name": "stdout",
     "output_type": "stream",
     "text": [
      "Setup Complete\n"
     ]
    }
   ],
   "source": [
    "import pandas as pd\n",
    "pd.plotting.register_matplotlib_converters()\n",
    "import matplotlib.pyplot as plt\n",
    "%matplotlib inline\n",
    "import seaborn as sns\n",
    "print(\"Setup Complete\")"
   ]
  },
  {
   "cell_type": "markdown",
   "id": "7c323a69",
   "metadata": {
    "papermill": {
     "duration": 0.005665,
     "end_time": "2022-07-29T23:25:59.847209",
     "exception": false,
     "start_time": "2022-07-29T23:25:59.841544",
     "status": "completed"
    },
    "tags": []
   },
   "source": [
    "The questions below will give you feedback on your work. Run the following cell to set up the feedback system."
   ]
  },
  {
   "cell_type": "code",
   "execution_count": 2,
   "id": "cd98a28d",
   "metadata": {
    "execution": {
     "iopub.execute_input": "2022-07-29T23:25:59.861539Z",
     "iopub.status.busy": "2022-07-29T23:25:59.861158Z",
     "iopub.status.idle": "2022-07-29T23:25:59.916567Z",
     "shell.execute_reply": "2022-07-29T23:25:59.915513Z"
    },
    "papermill": {
     "duration": 0.065492,
     "end_time": "2022-07-29T23:25:59.919441",
     "exception": false,
     "start_time": "2022-07-29T23:25:59.853949",
     "status": "completed"
    },
    "tags": []
   },
   "outputs": [
    {
     "name": "stdout",
     "output_type": "stream",
     "text": [
      "Setup Complete\n"
     ]
    }
   ],
   "source": [
    "# Set up code checking\n",
    "import os\n",
    "if not os.path.exists(\"../input/museum_visitors.csv\"):\n",
    "    os.symlink(\"../input/data-for-datavis/museum_visitors.csv\", \"../input/museum_visitors.csv\") \n",
    "from learntools.core import binder\n",
    "binder.bind(globals())\n",
    "from learntools.data_viz_to_coder.ex2 import *\n",
    "print(\"Setup Complete\")"
   ]
  },
  {
   "cell_type": "markdown",
   "id": "81f289fd",
   "metadata": {
    "papermill": {
     "duration": 0.005691,
     "end_time": "2022-07-29T23:25:59.931324",
     "exception": false,
     "start_time": "2022-07-29T23:25:59.925633",
     "status": "completed"
    },
    "tags": []
   },
   "source": [
    "## Step 1: Load the data\n",
    "\n",
    "Your first assignment is to read the LA Museum Visitors data file into `museum_data`.  Note that:\n",
    "- The filepath to the dataset is stored as `museum_filepath`.  Please **do not** change the provided value of the filepath.\n",
    "- The name of the column to use as row labels is `\"Date\"`.  (This can be seen in cell A1 when the file is opened in Excel.)\n",
    "\n",
    "To help with this, you may find it useful to revisit some relevant code from the tutorial, which we have pasted below:\n",
    "\n",
    "```python\n",
    "# Path of the file to read\n",
    "spotify_filepath = \"../input/spotify.csv\"\n",
    "\n",
    "# Read the file into a variable spotify_data\n",
    "spotify_data = pd.read_csv(spotify_filepath, index_col=\"Date\", parse_dates=True)\n",
    "```\n",
    "\n",
    "The code you need to write now looks very similar!"
   ]
  },
  {
   "cell_type": "code",
   "execution_count": 3,
   "id": "c93f58c8",
   "metadata": {
    "execution": {
     "iopub.execute_input": "2022-07-29T23:25:59.945288Z",
     "iopub.status.busy": "2022-07-29T23:25:59.944315Z",
     "iopub.status.idle": "2022-07-29T23:25:59.960173Z",
     "shell.execute_reply": "2022-07-29T23:25:59.959329Z"
    },
    "papermill": {
     "duration": 0.024951,
     "end_time": "2022-07-29T23:25:59.962214",
     "exception": false,
     "start_time": "2022-07-29T23:25:59.937263",
     "status": "completed"
    },
    "tags": []
   },
   "outputs": [
    {
     "data": {
      "application/javascript": [
       "parent.postMessage({\"jupyterEvent\": \"custom.exercise_interaction\", \"data\": {\"outcomeType\": 1, \"valueTowardsCompletion\": 0.3333333333333333, \"interactionType\": 1, \"questionType\": 1, \"questionId\": \"1_LoadMuseumData\", \"learnToolsVersion\": \"0.3.4\", \"failureMessage\": \"\", \"exceptionClass\": \"\", \"trace\": \"\"}}, \"*\")"
      ],
      "text/plain": [
       "<IPython.core.display.Javascript object>"
      ]
     },
     "metadata": {},
     "output_type": "display_data"
    },
    {
     "data": {
      "text/markdown": [
       "<span style=\"color:#33cc33\">Correct</span>"
      ],
      "text/plain": [
       "Correct"
      ]
     },
     "metadata": {},
     "output_type": "display_data"
    }
   ],
   "source": [
    "# Path of the file to read\n",
    "museum_filepath = \"../input/museum_visitors.csv\"\n",
    "\n",
    "# Fill in the line below to read the file into a variable museum_data\n",
    "museum_data = pd.read_csv(museum_filepath,index_col=\"Date\",parse_dates=True)\n",
    "\n",
    "# Run the line below with no changes to check that you've loaded the data correctly\n",
    "step_1.check()"
   ]
  },
  {
   "cell_type": "code",
   "execution_count": 4,
   "id": "d7d2d787",
   "metadata": {
    "execution": {
     "iopub.execute_input": "2022-07-29T23:25:59.976367Z",
     "iopub.status.busy": "2022-07-29T23:25:59.975698Z",
     "iopub.status.idle": "2022-07-29T23:25:59.979381Z",
     "shell.execute_reply": "2022-07-29T23:25:59.978615Z"
    },
    "papermill": {
     "duration": 0.013174,
     "end_time": "2022-07-29T23:25:59.981462",
     "exception": false,
     "start_time": "2022-07-29T23:25:59.968288",
     "status": "completed"
    },
    "tags": []
   },
   "outputs": [],
   "source": [
    "# Uncomment the line below to receive a hint\n",
    "#step_1.hint()\n",
    "# Uncomment the line below to see the solution\n",
    "#step_1.solution()"
   ]
  },
  {
   "cell_type": "markdown",
   "id": "cf2b98a2",
   "metadata": {
    "papermill": {
     "duration": 0.00584,
     "end_time": "2022-07-29T23:25:59.993349",
     "exception": false,
     "start_time": "2022-07-29T23:25:59.987509",
     "status": "completed"
    },
    "tags": []
   },
   "source": [
    "## Step 2: Review the data\n",
    "\n",
    "Use a Python command to print the last 5 rows of the data."
   ]
  },
  {
   "cell_type": "code",
   "execution_count": 5,
   "id": "8cecc71c",
   "metadata": {
    "execution": {
     "iopub.execute_input": "2022-07-29T23:26:00.007362Z",
     "iopub.status.busy": "2022-07-29T23:26:00.006652Z",
     "iopub.status.idle": "2022-07-29T23:26:00.019927Z",
     "shell.execute_reply": "2022-07-29T23:26:00.019057Z"
    },
    "papermill": {
     "duration": 0.023107,
     "end_time": "2022-07-29T23:26:00.022499",
     "exception": false,
     "start_time": "2022-07-29T23:25:59.999392",
     "status": "completed"
    },
    "tags": []
   },
   "outputs": [
    {
     "data": {
      "text/html": [
       "<div>\n",
       "<style scoped>\n",
       "    .dataframe tbody tr th:only-of-type {\n",
       "        vertical-align: middle;\n",
       "    }\n",
       "\n",
       "    .dataframe tbody tr th {\n",
       "        vertical-align: top;\n",
       "    }\n",
       "\n",
       "    .dataframe thead th {\n",
       "        text-align: right;\n",
       "    }\n",
       "</style>\n",
       "<table border=\"1\" class=\"dataframe\">\n",
       "  <thead>\n",
       "    <tr style=\"text-align: right;\">\n",
       "      <th></th>\n",
       "      <th>Avila Adobe</th>\n",
       "      <th>Firehouse Museum</th>\n",
       "      <th>Chinese American Museum</th>\n",
       "      <th>America Tropical Interpretive Center</th>\n",
       "    </tr>\n",
       "    <tr>\n",
       "      <th>Date</th>\n",
       "      <th></th>\n",
       "      <th></th>\n",
       "      <th></th>\n",
       "      <th></th>\n",
       "    </tr>\n",
       "  </thead>\n",
       "  <tbody>\n",
       "    <tr>\n",
       "      <th>2018-07-01</th>\n",
       "      <td>23136</td>\n",
       "      <td>4191</td>\n",
       "      <td>2620</td>\n",
       "      <td>4718</td>\n",
       "    </tr>\n",
       "    <tr>\n",
       "      <th>2018-08-01</th>\n",
       "      <td>20815</td>\n",
       "      <td>4866</td>\n",
       "      <td>2409</td>\n",
       "      <td>3891</td>\n",
       "    </tr>\n",
       "    <tr>\n",
       "      <th>2018-09-01</th>\n",
       "      <td>21020</td>\n",
       "      <td>4956</td>\n",
       "      <td>2146</td>\n",
       "      <td>3180</td>\n",
       "    </tr>\n",
       "    <tr>\n",
       "      <th>2018-10-01</th>\n",
       "      <td>19280</td>\n",
       "      <td>4622</td>\n",
       "      <td>2364</td>\n",
       "      <td>3775</td>\n",
       "    </tr>\n",
       "    <tr>\n",
       "      <th>2018-11-01</th>\n",
       "      <td>17163</td>\n",
       "      <td>4082</td>\n",
       "      <td>2385</td>\n",
       "      <td>4562</td>\n",
       "    </tr>\n",
       "  </tbody>\n",
       "</table>\n",
       "</div>"
      ],
      "text/plain": [
       "            Avila Adobe  Firehouse Museum  Chinese American Museum  \\\n",
       "Date                                                                 \n",
       "2018-07-01        23136              4191                     2620   \n",
       "2018-08-01        20815              4866                     2409   \n",
       "2018-09-01        21020              4956                     2146   \n",
       "2018-10-01        19280              4622                     2364   \n",
       "2018-11-01        17163              4082                     2385   \n",
       "\n",
       "            America Tropical Interpretive Center  \n",
       "Date                                              \n",
       "2018-07-01                                  4718  \n",
       "2018-08-01                                  3891  \n",
       "2018-09-01                                  3180  \n",
       "2018-10-01                                  3775  \n",
       "2018-11-01                                  4562  "
      ]
     },
     "execution_count": 5,
     "metadata": {},
     "output_type": "execute_result"
    }
   ],
   "source": [
    "# Print the last five rows of the data \n",
    "museum_data.tail() # Your code here"
   ]
  },
  {
   "cell_type": "code",
   "execution_count": 6,
   "id": "01d8fa41",
   "metadata": {
    "execution": {
     "iopub.execute_input": "2022-07-29T23:26:00.037472Z",
     "iopub.status.busy": "2022-07-29T23:26:00.036440Z",
     "iopub.status.idle": "2022-07-29T23:26:00.051573Z",
     "shell.execute_reply": "2022-07-29T23:26:00.050507Z"
    },
    "papermill": {
     "duration": 0.025007,
     "end_time": "2022-07-29T23:26:00.053940",
     "exception": false,
     "start_time": "2022-07-29T23:26:00.028933",
     "status": "completed"
    },
    "tags": []
   },
   "outputs": [
    {
     "data": {
      "text/plain": [
       "2620"
      ]
     },
     "execution_count": 6,
     "metadata": {},
     "output_type": "execute_result"
    }
   ],
   "source": [
    "museum_data['Chinese American Museum']['2018-07-01']"
   ]
  },
  {
   "cell_type": "markdown",
   "id": "f39f5089",
   "metadata": {
    "papermill": {
     "duration": 0.006064,
     "end_time": "2022-07-29T23:26:00.066429",
     "exception": false,
     "start_time": "2022-07-29T23:26:00.060365",
     "status": "completed"
    },
    "tags": []
   },
   "source": [
    "The last row (for `2018-11-01`) tracks the number of visitors to each museum in November 2018, the next-to-last row (for `2018-10-01`) tracks the number of visitors to each museum in October 2018, _and so on_.\n",
    "\n",
    "Use the last 5 rows of the data to answer the questions below."
   ]
  },
  {
   "cell_type": "code",
   "execution_count": 7,
   "id": "f81287b9",
   "metadata": {
    "execution": {
     "iopub.execute_input": "2022-07-29T23:26:00.080845Z",
     "iopub.status.busy": "2022-07-29T23:26:00.080414Z",
     "iopub.status.idle": "2022-07-29T23:26:00.090782Z",
     "shell.execute_reply": "2022-07-29T23:26:00.089728Z"
    },
    "papermill": {
     "duration": 0.020113,
     "end_time": "2022-07-29T23:26:00.092966",
     "exception": false,
     "start_time": "2022-07-29T23:26:00.072853",
     "status": "completed"
    },
    "tags": []
   },
   "outputs": [
    {
     "data": {
      "application/javascript": [
       "parent.postMessage({\"jupyterEvent\": \"custom.exercise_interaction\", \"data\": {\"outcomeType\": 1, \"valueTowardsCompletion\": 0.3333333333333333, \"interactionType\": 1, \"questionType\": 1, \"questionId\": \"2_ReviewData\", \"learnToolsVersion\": \"0.3.4\", \"failureMessage\": \"\", \"exceptionClass\": \"\", \"trace\": \"\"}}, \"*\")"
      ],
      "text/plain": [
       "<IPython.core.display.Javascript object>"
      ]
     },
     "metadata": {},
     "output_type": "display_data"
    },
    {
     "data": {
      "text/markdown": [
       "<span style=\"color:#33cc33\">Correct</span>"
      ],
      "text/plain": [
       "Correct"
      ]
     },
     "metadata": {},
     "output_type": "display_data"
    }
   ],
   "source": [
    "# Fill in the line below: How many visitors did the Chinese American Museum \n",
    "# receive in July 2018?\n",
    "ca_museum_jul18 = museum_data['Chinese American Museum']['2018-07-01']\n",
    "\n",
    "# Fill in the line below: In October 2018, how many more visitors did Avila \n",
    "# Adobe receive than the Firehouse Museum?\n",
    "avila_oct18 = museum_data['Avila Adobe']['2018-10-01'] - museum_data['Firehouse Museum']['2018-10-01']\n",
    "# Check your answers\n",
    "step_2.check()"
   ]
  },
  {
   "cell_type": "code",
   "execution_count": 8,
   "id": "516ed14b",
   "metadata": {
    "execution": {
     "iopub.execute_input": "2022-07-29T23:26:00.108508Z",
     "iopub.status.busy": "2022-07-29T23:26:00.108095Z",
     "iopub.status.idle": "2022-07-29T23:26:00.112744Z",
     "shell.execute_reply": "2022-07-29T23:26:00.111542Z"
    },
    "papermill": {
     "duration": 0.014421,
     "end_time": "2022-07-29T23:26:00.114755",
     "exception": false,
     "start_time": "2022-07-29T23:26:00.100334",
     "status": "completed"
    },
    "tags": []
   },
   "outputs": [],
   "source": [
    "# Lines below will give you a hint or solution code\n",
    "#step_2.hint()\n",
    "#step_2.solution()"
   ]
  },
  {
   "cell_type": "markdown",
   "id": "ede4ceb2",
   "metadata": {
    "papermill": {
     "duration": 0.006319,
     "end_time": "2022-07-29T23:26:00.127658",
     "exception": false,
     "start_time": "2022-07-29T23:26:00.121339",
     "status": "completed"
    },
    "tags": []
   },
   "source": [
    "## Step 3: Convince the museum board \n",
    "\n",
    "The Firehouse Museum claims they ran an event in 2014 that brought an incredible number of visitors, and that they should get extra budget to run a similar event again.  The other museums think these types of events aren't that important, and budgets should be split purely based on recent visitors on an average day.  \n",
    "\n",
    "To show the museum board how the event compared to regular traffic at each museum, create a line chart that shows how the number of visitors to each museum evolved over time.  Your figure should have four lines (one for each museum).\n",
    "\n",
    "> **(Optional) Note**: If you have some prior experience with plotting figures in Python, you might be familiar with the `plt.show()` command.  If you decide to use this command, please place it **after** the line of code that checks your answer (in this case, place it after `step_3.check()` below) -- otherwise, the checking code will return an error!"
   ]
  },
  {
   "cell_type": "code",
   "execution_count": 9,
   "id": "9adf3e9e",
   "metadata": {
    "execution": {
     "iopub.execute_input": "2022-07-29T23:26:00.142601Z",
     "iopub.status.busy": "2022-07-29T23:26:00.142197Z",
     "iopub.status.idle": "2022-07-29T23:26:00.506990Z",
     "shell.execute_reply": "2022-07-29T23:26:00.506028Z"
    },
    "papermill": {
     "duration": 0.37492,
     "end_time": "2022-07-29T23:26:00.509152",
     "exception": false,
     "start_time": "2022-07-29T23:26:00.134232",
     "status": "completed"
    },
    "tags": []
   },
   "outputs": [
    {
     "data": {
      "application/javascript": [
       "parent.postMessage({\"jupyterEvent\": \"custom.exercise_interaction\", \"data\": {\"outcomeType\": 1, \"valueTowardsCompletion\": 0.3333333333333333, \"interactionType\": 1, \"questionType\": 2, \"questionId\": \"3_PlotAll\", \"learnToolsVersion\": \"0.3.4\", \"failureMessage\": \"\", \"exceptionClass\": \"\", \"trace\": \"\"}}, \"*\")"
      ],
      "text/plain": [
       "<IPython.core.display.Javascript object>"
      ]
     },
     "metadata": {},
     "output_type": "display_data"
    },
    {
     "data": {
      "text/markdown": [
       "<span style=\"color:#33cc33\">Correct</span>"
      ],
      "text/plain": [
       "Correct"
      ]
     },
     "metadata": {},
     "output_type": "display_data"
    },
    {
     "data": {
      "image/png": "[encoded data removed]",
      "text/plain": [
       "<Figure size 864x432 with 1 Axes>"
      ]
     },
     "metadata": {
      "needs_background": "light"
     },
     "output_type": "display_data"
    }
   ],
   "source": [
    "# Line chart showing the number of visitors to each museum over time\n",
    "plt.figure(figsize=(12,6)) # Your code here\n",
    "sns.lineplot(data=museum_data)\n",
    "plt.title(\"the number of visitors to each museum over time\")\n",
    "\n",
    "# Check your answer\n",
    "step_3.check()"
   ]
  },
  {
   "cell_type": "code",
   "execution_count": 10,
   "id": "52effd2c",
   "metadata": {
    "execution": {
     "iopub.execute_input": "2022-07-29T23:26:00.527672Z",
     "iopub.status.busy": "2022-07-29T23:26:00.526790Z",
     "iopub.status.idle": "2022-07-29T23:26:00.531467Z",
     "shell.execute_reply": "2022-07-29T23:26:00.530730Z"
    },
    "papermill": {
     "duration": 0.0163,
     "end_time": "2022-07-29T23:26:00.533618",
     "exception": false,
     "start_time": "2022-07-29T23:26:00.517318",
     "status": "completed"
    },
    "tags": []
   },
   "outputs": [],
   "source": [
    "# Lines below will give you a hint or solution code\n",
    "#step_3.hint()\n",
    "#step_3.solution_plot()"
   ]
  },
  {
   "cell_type": "markdown",
   "id": "2786841b",
   "metadata": {
    "papermill": {
     "duration": 0.008134,
     "end_time": "2022-07-29T23:26:00.550056",
     "exception": false,
     "start_time": "2022-07-29T23:26:00.541922",
     "status": "completed"
    },
    "tags": []
   },
   "source": [
    "## Step 4: Assess seasonality\n",
    "\n",
    "When meeting with the employees at Avila Adobe, you hear that one major pain point is that the number of museum visitors varies greatly with the seasons, with low seasons (when the employees are perfectly staffed and happy) and also high seasons (when the employees are understaffed and stressed).  You realize that if you can predict these high and low seasons, you can plan ahead to hire some additional seasonal employees to help out with the extra work.\n",
    "\n",
    "#### Part A\n",
    "Create a line chart that shows how the number of visitors to Avila Adobe has evolved over time.  (_If your code returns an error, the first thing that you should check is that you've spelled the name of the column correctly!  You must write the name of the column exactly as it appears in the dataset._)"
   ]
  },
  {
   "cell_type": "code",
   "execution_count": 11,
   "id": "f21211c2",
   "metadata": {
    "execution": {
     "iopub.execute_input": "2022-07-29T23:26:00.568607Z",
     "iopub.status.busy": "2022-07-29T23:26:00.567497Z",
     "iopub.status.idle": "2022-07-29T23:26:00.815976Z",
     "shell.execute_reply": "2022-07-29T23:26:00.814896Z"
    },
    "papermill": {
     "duration": 0.259902,
     "end_time": "2022-07-29T23:26:00.818183",
     "exception": false,
     "start_time": "2022-07-29T23:26:00.558281",
     "status": "completed"
    },
    "tags": []
   },
   "outputs": [
    {
     "name": "stdout",
     "output_type": "stream",
     "text": [
      "Thank you for creating a line chart!  To see how your code compares to the official solution, please use the code cell below.\n"
     ]
    },
    {
     "data": {
      "application/javascript": [
       "parent.postMessage({\"jupyterEvent\": \"custom.exercise_interaction\", \"data\": {\"outcomeType\": 1, \"valueTowardsCompletion\": 0.3333333333333333, \"interactionType\": 1, \"questionType\": 2, \"questionId\": \"4.1_PlotAvila\", \"learnToolsVersion\": \"0.3.4\", \"failureMessage\": \"\", \"exceptionClass\": \"\", \"trace\": \"\"}}, \"*\")"
      ],
      "text/plain": [
       "<IPython.core.display.Javascript object>"
      ]
     },
     "metadata": {},
     "output_type": "display_data"
    },
    {
     "data": {
      "text/markdown": [
       "<span style=\"color:#33cc33\">Correct</span>"
      ],
      "text/plain": [
       "Correct"
      ]
     },
     "metadata": {},
     "output_type": "display_data"
    },
    {
     "data": {
      "image/png": "[encoded data removed]",
      "text/plain": [
       "<Figure size 864x432 with 1 Axes>"
      ]
     },
     "metadata": {
      "needs_background": "light"
     },
     "output_type": "display_data"
    }
   ],
   "source": [
    "# Line plot showing the number of visitors to Avila Adobe over time\n",
    "plt.figure(figsize=(12,6)) # Your code here\n",
    "plt.title(\"Monthly Visitors to Avila Adobe\")\n",
    "sns.lineplot(data=museum_data['Avila Adobe'])\n",
    "plt.xlabel(\"Date\")\n",
    "\n",
    "# Check your answer\n",
    "step_4.a.check()"
   ]
  },
  {
   "cell_type": "code",
   "execution_count": 12,
   "id": "299cdadc",
   "metadata": {
    "execution": {
     "iopub.execute_input": "2022-07-29T23:26:00.838983Z",
     "iopub.status.busy": "2022-07-29T23:26:00.838560Z",
     "iopub.status.idle": "2022-07-29T23:26:00.842584Z",
     "shell.execute_reply": "2022-07-29T23:26:00.841833Z"
    },
    "papermill": {
     "duration": 0.016284,
     "end_time": "2022-07-29T23:26:00.844558",
     "exception": false,
     "start_time": "2022-07-29T23:26:00.828274",
     "status": "completed"
    },
    "tags": []
   },
   "outputs": [],
   "source": [
    "# Lines below will give you a hint or solution code\n",
    "#step_4.a.hint()\n",
    "#step_4.a.solution_plot()"
   ]
  },
  {
   "cell_type": "markdown",
   "id": "b1266388",
   "metadata": {
    "papermill": {
     "duration": 0.008718,
     "end_time": "2022-07-29T23:26:00.862617",
     "exception": false,
     "start_time": "2022-07-29T23:26:00.853899",
     "status": "completed"
    },
    "tags": []
   },
   "source": [
    "#### Part B\n",
    "\n",
    "Does Avila Adobe get more visitors:\n",
    "- in September-February (in LA, the fall and winter months), or \n",
    "- in March-August (in LA, the spring and summer)?  \n",
    "\n",
    "Using this information, when should the museum staff additional seasonal employees?"
   ]
  },
  {
   "cell_type": "code",
   "execution_count": 13,
   "id": "142aba24",
   "metadata": {
    "execution": {
     "iopub.execute_input": "2022-07-29T23:26:00.883901Z",
     "iopub.status.busy": "2022-07-29T23:26:00.883113Z",
     "iopub.status.idle": "2022-07-29T23:26:00.887949Z",
     "shell.execute_reply": "2022-07-29T23:26:00.887044Z"
    },
    "papermill": {
     "duration": 0.018354,
     "end_time": "2022-07-29T23:26:00.890264",
     "exception": false,
     "start_time": "2022-07-29T23:26:00.871910",
     "status": "completed"
    },
    "tags": []
   },
   "outputs": [],
   "source": [
    "#step_4.b.hint()"
   ]
  },
  {
   "cell_type": "code",
   "execution_count": 14,
   "id": "254eb4f6",
   "metadata": {
    "execution": {
     "iopub.execute_input": "2022-07-29T23:26:00.910937Z",
     "iopub.status.busy": "2022-07-29T23:26:00.910177Z",
     "iopub.status.idle": "2022-07-29T23:26:00.919291Z",
     "shell.execute_reply": "2022-07-29T23:26:00.918457Z"
    },
    "papermill": {
     "duration": 0.021697,
     "end_time": "2022-07-29T23:26:00.921466",
     "exception": false,
     "start_time": "2022-07-29T23:26:00.899769",
     "status": "completed"
    },
    "tags": []
   },
   "outputs": [
    {
     "data": {
      "application/javascript": [
       "parent.postMessage({\"jupyterEvent\": \"custom.exercise_interaction\", \"data\": {\"interactionType\": 3, \"questionType\": 4, \"questionId\": \"4.2_ThinkAvila\", \"learnToolsVersion\": \"0.3.4\", \"valueTowardsCompletion\": 0.0, \"failureMessage\": \"\", \"exceptionClass\": \"\", \"trace\": \"\", \"outcomeType\": 4}}, \"*\")"
      ],
      "text/plain": [
       "<IPython.core.display.Javascript object>"
      ]
     },
     "metadata": {},
     "output_type": "display_data"
    },
    {
     "data": {
      "text/markdown": [
       "<span style=\"color:#33cc99\">Solution:</span> The line chart generally dips to relatively low values around the early part of each year (in December and January), and reaches its highest values in the middle of the year (especially around May and June).  Thus, Avila Adobe usually gets more visitors in March-August (or the spring and summer months).  With this in mind, Avila Adobe could definitely benefit from hiring more seasonal employees to help with the extra work in March-August (the spring and summer)!"
      ],
      "text/plain": [
       "Solution: The line chart generally dips to relatively low values around the early part of each year (in December and January), and reaches its highest values in the middle of the year (especially around May and June).  Thus, Avila Adobe usually gets more visitors in March-August (or the spring and summer months).  With this in mind, Avila Adobe could definitely benefit from hiring more seasonal employees to help with the extra work in March-August (the spring and summer)!"
      ]
     },
     "metadata": {},
     "output_type": "display_data"
    }
   ],
   "source": [
    "# Check your answer (Run this code cell to receive credit!)\n",
    "step_4.b.solution()"
   ]
  },
  {
   "cell_type": "markdown",
   "id": "e0a12b94",
   "metadata": {
    "papermill": {
     "duration": 0.009125,
     "end_time": "2022-07-29T23:26:00.940001",
     "exception": false,
     "start_time": "2022-07-29T23:26:00.930876",
     "status": "completed"
    },
    "tags": []
   },
   "source": [
    "# Keep going\n",
    "\n",
    "Move on to learn about **[bar charts and heatmaps](https://www.kaggle.com/alexisbcook/bar-charts-and-heatmaps)** with a new dataset!"
   ]
  },
  {
   "cell_type": "markdown",
   "id": "7f972f87",
   "metadata": {
    "papermill": {
     "duration": 0.008924,
     "end_time": "2022-07-29T23:26:00.958194",
     "exception": false,
     "start_time": "2022-07-29T23:26:00.949270",
     "status": "completed"
    },
    "tags": []
   },
   "source": [
    "---\n",
    "\n",
    "\n",
    "\n",
    "\n",
    "*Have questions or comments? Visit the [course discussion forum](https://www.kaggle.com/learn/data-visualization/discussion) to chat with other learners.*"
   ]
  }
 ],
 "metadata": {
  "kernelspec": {
   "display_name": "Python 3",
   "language": "python",
   "name": "python3"
  },
  "language_info": {
   "codemirror_mode": {
    "name": "ipython",
    "version": 3
   },
   "file_extension": ".py",
   "mimetype": "text/x-python",
   "name": "python",
   "nbconvert_exporter": "python",
   "pygments_lexer": "ipython3",
   "version": "3.7.12"
  },
  "papermill": {
   "default_parameters": {},
   "duration": 12.347448,
   "end_time": "2022-07-29T23:26:01.688971",
   "environment_variables": {},
   "exception": null,
   "input_path": "__notebook__.ipynb",
   "output_path": "__notebook__.ipynb",
   "parameters": {},
   "start_time": "2022-07-29T23:25:49.341523",
   "version": "2.3.4"
  }
 },
 "nbformat": 4,
 "nbformat_minor": 5
}
