{
 "cells": [
  {
   "cell_type": "markdown",
   "id": "5b526122",
   "metadata": {
    "papermill": {
     "duration": 0.01108,
     "end_time": "2022-07-29T23:52:26.317555",
     "exception": false,
     "start_time": "2022-07-29T23:52:26.306475",
     "status": "completed"
    },
    "tags": []
   },
   "source": [
    "**This notebook is an exercise in the [Data Visualization](https://www.kaggle.com/learn/data-visualization) course.  You can reference the tutorial at [this link](https://www.kaggle.com/alexisbcook/scatter-plots).**\n",
    "\n",
    "---\n"
   ]
  },
  {
   "cell_type": "markdown",
   "id": "dfacbec1",
   "metadata": {
    "papermill": {
     "duration": 0.00988,
     "end_time": "2022-07-29T23:52:26.337738",
     "exception": false,
     "start_time": "2022-07-29T23:52:26.327858",
     "status": "completed"
    },
    "tags": []
   },
   "source": [
    "In this exercise, you will use your new knowledge to propose a solution to a real-world scenario.  To succeed, you will need to import data into Python, answer questions using the data, and generate **scatter plots** to understand patterns in the data.\n",
    "\n",
    "## Scenario\n",
    "\n",
    "You work for a major candy producer, and your goal is to write a report that your company can use to guide the design of its next product.  Soon after starting your research, you stumble across this [very interesting dataset](https://fivethirtyeight.com/features/the-ultimate-halloween-candy-power-ranking/) containing results from a fun survey to crowdsource favorite candies.\n",
    "\n",
    "## Setup\n",
    "\n",
    "Run the next cell to import and configure the Python libraries that you need to complete the exercise."
   ]
  },
  {
   "cell_type": "code",
   "execution_count": 1,
   "id": "97b16c19",
   "metadata": {
    "execution": {
     "iopub.execute_input": "2022-07-29T23:52:26.360025Z",
     "iopub.status.busy": "2022-07-29T23:52:26.359584Z",
     "iopub.status.idle": "2022-07-29T23:52:27.458746Z",
     "shell.execute_reply": "2022-07-29T23:52:27.457569Z"
    },
    "papermill": {
     "duration": 1.113652,
     "end_time": "2022-07-29T23:52:27.461580",
     "exception": false,
     "start_time": "2022-07-29T23:52:26.347928",
     "status": "completed"
    },
    "tags": []
   },
   "outputs": [
    {
     "name": "stdout",
     "output_type": "stream",
     "text": [
      "Setup Complete\n"
     ]
    }
   ],
   "source": [
    "import pandas as pd\n",
    "pd.plotting.register_matplotlib_converters()\n",
    "import matplotlib.pyplot as plt\n",
    "%matplotlib inline\n",
    "import seaborn as sns\n",
    "print(\"Setup Complete\")"
   ]
  },
  {
   "cell_type": "markdown",
   "id": "e48ae1c2",
   "metadata": {
    "papermill": {
     "duration": 0.010123,
     "end_time": "2022-07-29T23:52:27.481788",
     "exception": false,
     "start_time": "2022-07-29T23:52:27.471665",
     "status": "completed"
    },
    "tags": []
   },
   "source": [
    "The questions below will give you feedback on your work. Run the following cell to set up our feedback system."
   ]
  },
  {
   "cell_type": "code",
   "execution_count": 2,
   "id": "e658e4e1",
   "metadata": {
    "execution": {
     "iopub.execute_input": "2022-07-29T23:52:27.504385Z",
     "iopub.status.busy": "2022-07-29T23:52:27.503454Z",
     "iopub.status.idle": "2022-07-29T23:52:27.570743Z",
     "shell.execute_reply": "2022-07-29T23:52:27.569342Z"
    },
    "papermill": {
     "duration": 0.081088,
     "end_time": "2022-07-29T23:52:27.573140",
     "exception": false,
     "start_time": "2022-07-29T23:52:27.492052",
     "status": "completed"
    },
    "tags": []
   },
   "outputs": [
    {
     "name": "stdout",
     "output_type": "stream",
     "text": [
      "Setup Complete\n"
     ]
    }
   ],
   "source": [
    "# Set up code checking\n",
    "import os\n",
    "if not os.path.exists(\"../input/candy.csv\"):\n",
    "    os.symlink(\"../input/data-for-datavis/candy.csv\", \"../input/candy.csv\") \n",
    "from learntools.core import binder\n",
    "binder.bind(globals())\n",
    "from learntools.data_viz_to_coder.ex4 import *\n",
    "print(\"Setup Complete\")"
   ]
  },
  {
   "cell_type": "markdown",
   "id": "b5d404a3",
   "metadata": {
    "papermill": {
     "duration": 0.009889,
     "end_time": "2022-07-29T23:52:27.593613",
     "exception": false,
     "start_time": "2022-07-29T23:52:27.583724",
     "status": "completed"
    },
    "tags": []
   },
   "source": [
    "## Step 1: Load the Data\n",
    "\n",
    "Read the candy data file into `candy_data`.  Use the `\"id\"` column to label the rows."
   ]
  },
  {
   "cell_type": "code",
   "execution_count": 3,
   "id": "c66fc424",
   "metadata": {
    "execution": {
     "iopub.execute_input": "2022-07-29T23:52:27.616010Z",
     "iopub.status.busy": "2022-07-29T23:52:27.615364Z",
     "iopub.status.idle": "2022-07-29T23:52:27.631396Z",
     "shell.execute_reply": "2022-07-29T23:52:27.630346Z"
    },
    "papermill": {
     "duration": 0.029775,
     "end_time": "2022-07-29T23:52:27.633451",
     "exception": false,
     "start_time": "2022-07-29T23:52:27.603676",
     "status": "completed"
    },
    "tags": []
   },
   "outputs": [
    {
     "data": {
      "application/javascript": [
       "parent.postMessage({\"jupyterEvent\": \"custom.exercise_interaction\", \"data\": {\"outcomeType\": 1, \"valueTowardsCompletion\": 0.3333333333333333, \"interactionType\": 1, \"questionType\": 1, \"questionId\": \"1_LoadData\", \"learnToolsVersion\": \"0.3.4\", \"failureMessage\": \"\", \"exceptionClass\": \"\", \"trace\": \"\"}}, \"*\")"
      ],
      "text/plain": [
       "<IPython.core.display.Javascript object>"
      ]
     },
     "metadata": {},
     "output_type": "display_data"
    },
    {
     "data": {
      "text/markdown": [
       "<span style=\"color:#33cc33\">Correct</span>"
      ],
      "text/plain": [
       "Correct"
      ]
     },
     "metadata": {},
     "output_type": "display_data"
    }
   ],
   "source": [
    "# Path of the file to read\n",
    "candy_filepath = \"../input/candy.csv\"\n",
    "\n",
    "# Fill in the line below to read the file into a variable candy_data\n",
    "candy_data = pd.read_csv(candy_filepath, index_col=\"id\")\n",
    "\n",
    "# Run the line below with no changes to check that you've loaded the data correctly\n",
    "step_1.check()"
   ]
  },
  {
   "cell_type": "code",
   "execution_count": 4,
   "id": "911daf80",
   "metadata": {
    "execution": {
     "iopub.execute_input": "2022-07-29T23:52:27.657075Z",
     "iopub.status.busy": "2022-07-29T23:52:27.656411Z",
     "iopub.status.idle": "2022-07-29T23:52:27.660760Z",
     "shell.execute_reply": "2022-07-29T23:52:27.659998Z"
    },
    "papermill": {
     "duration": 0.018213,
     "end_time": "2022-07-29T23:52:27.662822",
     "exception": false,
     "start_time": "2022-07-29T23:52:27.644609",
     "status": "completed"
    },
    "tags": []
   },
   "outputs": [],
   "source": [
    "# Lines below will give you a hint or solution code\n",
    "#step_1.hint()\n",
    "#step_1.solution()"
   ]
  },
  {
   "cell_type": "markdown",
   "id": "2aa2a5fb",
   "metadata": {
    "papermill": {
     "duration": 0.009934,
     "end_time": "2022-07-29T23:52:27.683017",
     "exception": false,
     "start_time": "2022-07-29T23:52:27.673083",
     "status": "completed"
    },
    "tags": []
   },
   "source": [
    "## Step 2: Review the data\n",
    "\n",
    "Use a Python command to print the first five rows of the data."
   ]
  },
  {
   "cell_type": "code",
   "execution_count": 5,
   "id": "30f401f4",
   "metadata": {
    "execution": {
     "iopub.execute_input": "2022-07-29T23:52:27.705526Z",
     "iopub.status.busy": "2022-07-29T23:52:27.705119Z",
     "iopub.status.idle": "2022-07-29T23:52:27.727931Z",
     "shell.execute_reply": "2022-07-29T23:52:27.726795Z"
    },
    "papermill": {
     "duration": 0.036928,
     "end_time": "2022-07-29T23:52:27.730316",
     "exception": false,
     "start_time": "2022-07-29T23:52:27.693388",
     "status": "completed"
    },
    "tags": []
   },
   "outputs": [
    {
     "data": {
      "text/html": [
       "<div>\n",
       "<style scoped>\n",
       "    .dataframe tbody tr th:only-of-type {\n",
       "        vertical-align: middle;\n",
       "    }\n",
       "\n",
       "    .dataframe tbody tr th {\n",
       "        vertical-align: top;\n",
       "    }\n",
       "\n",
       "    .dataframe thead th {\n",
       "        text-align: right;\n",
       "    }\n",
       "</style>\n",
       "<table border=\"1\" class=\"dataframe\">\n",
       "  <thead>\n",
       "    <tr style=\"text-align: right;\">\n",
       "      <th></th>\n",
       "      <th>competitorname</th>\n",
       "      <th>chocolate</th>\n",
       "      <th>fruity</th>\n",
       "      <th>caramel</th>\n",
       "      <th>peanutyalmondy</th>\n",
       "      <th>nougat</th>\n",
       "      <th>crispedricewafer</th>\n",
       "      <th>hard</th>\n",
       "      <th>bar</th>\n",
       "      <th>pluribus</th>\n",
       "      <th>sugarpercent</th>\n",
       "      <th>pricepercent</th>\n",
       "      <th>winpercent</th>\n",
       "    </tr>\n",
       "    <tr>\n",
       "      <th>id</th>\n",
       "      <th></th>\n",
       "      <th></th>\n",
       "      <th></th>\n",
       "      <th></th>\n",
       "      <th></th>\n",
       "      <th></th>\n",
       "      <th></th>\n",
       "      <th></th>\n",
       "      <th></th>\n",
       "      <th></th>\n",
       "      <th></th>\n",
       "      <th></th>\n",
       "      <th></th>\n",
       "    </tr>\n",
       "  </thead>\n",
       "  <tbody>\n",
       "    <tr>\n",
       "      <th>0</th>\n",
       "      <td>100 Grand</td>\n",
       "      <td>Yes</td>\n",
       "      <td>No</td>\n",
       "      <td>Yes</td>\n",
       "      <td>No</td>\n",
       "      <td>No</td>\n",
       "      <td>Yes</td>\n",
       "      <td>No</td>\n",
       "      <td>Yes</td>\n",
       "      <td>No</td>\n",
       "      <td>0.732</td>\n",
       "      <td>0.860</td>\n",
       "      <td>66.971725</td>\n",
       "    </tr>\n",
       "    <tr>\n",
       "      <th>1</th>\n",
       "      <td>3 Musketeers</td>\n",
       "      <td>Yes</td>\n",
       "      <td>No</td>\n",
       "      <td>No</td>\n",
       "      <td>No</td>\n",
       "      <td>Yes</td>\n",
       "      <td>No</td>\n",
       "      <td>No</td>\n",
       "      <td>Yes</td>\n",
       "      <td>No</td>\n",
       "      <td>0.604</td>\n",
       "      <td>0.511</td>\n",
       "      <td>67.602936</td>\n",
       "    </tr>\n",
       "    <tr>\n",
       "      <th>2</th>\n",
       "      <td>Air Heads</td>\n",
       "      <td>No</td>\n",
       "      <td>Yes</td>\n",
       "      <td>No</td>\n",
       "      <td>No</td>\n",
       "      <td>No</td>\n",
       "      <td>No</td>\n",
       "      <td>No</td>\n",
       "      <td>No</td>\n",
       "      <td>No</td>\n",
       "      <td>0.906</td>\n",
       "      <td>0.511</td>\n",
       "      <td>52.341465</td>\n",
       "    </tr>\n",
       "    <tr>\n",
       "      <th>3</th>\n",
       "      <td>Almond Joy</td>\n",
       "      <td>Yes</td>\n",
       "      <td>No</td>\n",
       "      <td>No</td>\n",
       "      <td>Yes</td>\n",
       "      <td>No</td>\n",
       "      <td>No</td>\n",
       "      <td>No</td>\n",
       "      <td>Yes</td>\n",
       "      <td>No</td>\n",
       "      <td>0.465</td>\n",
       "      <td>0.767</td>\n",
       "      <td>50.347546</td>\n",
       "    </tr>\n",
       "    <tr>\n",
       "      <th>4</th>\n",
       "      <td>Baby Ruth</td>\n",
       "      <td>Yes</td>\n",
       "      <td>No</td>\n",
       "      <td>Yes</td>\n",
       "      <td>Yes</td>\n",
       "      <td>Yes</td>\n",
       "      <td>No</td>\n",
       "      <td>No</td>\n",
       "      <td>Yes</td>\n",
       "      <td>No</td>\n",
       "      <td>0.604</td>\n",
       "      <td>0.767</td>\n",
       "      <td>56.914547</td>\n",
       "    </tr>\n",
       "  </tbody>\n",
       "</table>\n",
       "</div>"
      ],
      "text/plain": [
       "   competitorname chocolate fruity caramel peanutyalmondy nougat  \\\n",
       "id                                                                 \n",
       "0       100 Grand       Yes     No     Yes             No     No   \n",
       "1    3 Musketeers       Yes     No      No             No    Yes   \n",
       "2       Air Heads        No    Yes      No             No     No   \n",
       "3      Almond Joy       Yes     No      No            Yes     No   \n",
       "4       Baby Ruth       Yes     No     Yes            Yes    Yes   \n",
       "\n",
       "   crispedricewafer hard  bar pluribus  sugarpercent  pricepercent  winpercent  \n",
       "id                                                                              \n",
       "0               Yes   No  Yes       No         0.732         0.860   66.971725  \n",
       "1                No   No  Yes       No         0.604         0.511   67.602936  \n",
       "2                No   No   No       No         0.906         0.511   52.341465  \n",
       "3                No   No  Yes       No         0.465         0.767   50.347546  \n",
       "4                No   No  Yes       No         0.604         0.767   56.914547  "
      ]
     },
     "execution_count": 5,
     "metadata": {},
     "output_type": "execute_result"
    }
   ],
   "source": [
    "# Print the first five rows of the data\n",
    "candy_data.head() # Your code here"
   ]
  },
  {
   "cell_type": "markdown",
   "id": "9285afb4",
   "metadata": {
    "papermill": {
     "duration": 0.010261,
     "end_time": "2022-07-29T23:52:27.751195",
     "exception": false,
     "start_time": "2022-07-29T23:52:27.740934",
     "status": "completed"
    },
    "tags": []
   },
   "source": [
    "The dataset contains 83 rows, where each corresponds to a different candy bar.  There are 13 columns:\n",
    "- `'competitorname'` contains the name of the candy bar. \n",
    "- the next **9** columns (from `'chocolate'` to `'pluribus'`) describe the candy.  For instance, rows with chocolate candies have `\"Yes\"` in the `'chocolate'` column (and candies without chocolate have `\"No\"` in the same column).\n",
    "- `'sugarpercent'` provides some indication of the amount of sugar, where higher values signify higher sugar content.\n",
    "- `'pricepercent'` shows the price per unit, relative to the other candies in the dataset.\n",
    "- `'winpercent'` is calculated from the survey results; higher values indicate that the candy was more popular with survey respondents.\n",
    "\n",
    "Use the first five rows of the data to answer the questions below."
   ]
  },
  {
   "cell_type": "code",
   "execution_count": 6,
   "id": "f184bbaf",
   "metadata": {
    "execution": {
     "iopub.execute_input": "2022-07-29T23:52:27.774453Z",
     "iopub.status.busy": "2022-07-29T23:52:27.773833Z",
     "iopub.status.idle": "2022-07-29T23:52:27.782960Z",
     "shell.execute_reply": "2022-07-29T23:52:27.782203Z"
    },
    "papermill": {
     "duration": 0.023221,
     "end_time": "2022-07-29T23:52:27.784979",
     "exception": false,
     "start_time": "2022-07-29T23:52:27.761758",
     "status": "completed"
    },
    "tags": []
   },
   "outputs": [
    {
     "data": {
      "application/javascript": [
       "parent.postMessage({\"jupyterEvent\": \"custom.exercise_interaction\", \"data\": {\"outcomeType\": 1, \"valueTowardsCompletion\": 0.3333333333333333, \"interactionType\": 1, \"questionType\": 1, \"questionId\": \"2_ReviewData\", \"learnToolsVersion\": \"0.3.4\", \"failureMessage\": \"\", \"exceptionClass\": \"\", \"trace\": \"\"}}, \"*\")"
      ],
      "text/plain": [
       "<IPython.core.display.Javascript object>"
      ]
     },
     "metadata": {},
     "output_type": "display_data"
    },
    {
     "data": {
      "text/markdown": [
       "<span style=\"color:#33cc33\">Correct</span>"
      ],
      "text/plain": [
       "Correct"
      ]
     },
     "metadata": {},
     "output_type": "display_data"
    }
   ],
   "source": [
    "# Fill in the line below: Which candy was more popular with survey respondents:\n",
    "# '3 Musketeers' or 'Almond Joy'?  (Please enclose your answer in single quotes.)\n",
    "more_popular = '3 Musketeers'\n",
    "\n",
    "# Fill in the line below: Which candy has higher sugar content: 'Air Heads'\n",
    "# or 'Baby Ruth'? (Please enclose your answer in single quotes.)\n",
    "more_sugar = 'Air Heads'\n",
    "\n",
    "# Check your answers\n",
    "step_2.check()"
   ]
  },
  {
   "cell_type": "code",
   "execution_count": 7,
   "id": "51e9bd6c",
   "metadata": {
    "execution": {
     "iopub.execute_input": "2022-07-29T23:52:27.809037Z",
     "iopub.status.busy": "2022-07-29T23:52:27.808357Z",
     "iopub.status.idle": "2022-07-29T23:52:27.812839Z",
     "shell.execute_reply": "2022-07-29T23:52:27.812002Z"
    },
    "papermill": {
     "duration": 0.01913,
     "end_time": "2022-07-29T23:52:27.814958",
     "exception": false,
     "start_time": "2022-07-29T23:52:27.795828",
     "status": "completed"
    },
    "tags": []
   },
   "outputs": [],
   "source": [
    "# Lines below will give you a hint or solution code\n",
    "#step_2.hint()\n",
    "#step_2.solution()"
   ]
  },
  {
   "cell_type": "markdown",
   "id": "a2450134",
   "metadata": {
    "papermill": {
     "duration": 0.010689,
     "end_time": "2022-07-29T23:52:27.836681",
     "exception": false,
     "start_time": "2022-07-29T23:52:27.825992",
     "status": "completed"
    },
    "tags": []
   },
   "source": [
    "## Step 3: The role of sugar\n",
    "\n",
    "Do people tend to prefer candies with higher sugar content?  \n",
    "\n",
    "#### Part A\n",
    "\n",
    "Create a scatter plot that shows the relationship between `'sugarpercent'` (on the horizontal x-axis) and `'winpercent'` (on the vertical y-axis).  _Don't add a regression line just yet -- you'll do that in the next step!_"
   ]
  },
  {
   "cell_type": "code",
   "execution_count": 8,
   "id": "d0b65407",
   "metadata": {
    "execution": {
     "iopub.execute_input": "2022-07-29T23:52:27.860760Z",
     "iopub.status.busy": "2022-07-29T23:52:27.860120Z",
     "iopub.status.idle": "2022-07-29T23:52:28.093157Z",
     "shell.execute_reply": "2022-07-29T23:52:28.091886Z"
    },
    "papermill": {
     "duration": 0.248208,
     "end_time": "2022-07-29T23:52:28.095862",
     "exception": false,
     "start_time": "2022-07-29T23:52:27.847654",
     "status": "completed"
    },
    "tags": []
   },
   "outputs": [
    {
     "data": {
      "application/javascript": [
       "parent.postMessage({\"jupyterEvent\": \"custom.exercise_interaction\", \"data\": {\"outcomeType\": 1, \"valueTowardsCompletion\": 0.3333333333333333, \"interactionType\": 1, \"questionType\": 2, \"questionId\": \"3.1_PlotBlueScatter\", \"learnToolsVersion\": \"0.3.4\", \"failureMessage\": \"\", \"exceptionClass\": \"\", \"trace\": \"\"}}, \"*\")"
      ],
      "text/plain": [
       "<IPython.core.display.Javascript object>"
      ]
     },
     "metadata": {},
     "output_type": "display_data"
    },
    {
     "data": {
      "text/markdown": [
       "<span style=\"color:#33cc33\">Correct</span>"
      ],
      "text/plain": [
       "Correct"
      ]
     },
     "metadata": {},
     "output_type": "display_data"
    },
    {
     "data": {
      "image/png": "[encoded data removed]",
      "text/plain": [
       "<Figure size 432x288 with 1 Axes>"
      ]
     },
     "metadata": {
      "needs_background": "light"
     },
     "output_type": "display_data"
    }
   ],
   "source": [
    "# Scatter plot showing the relationship between 'sugarpercent' and 'winpercent'\n",
    "sns.scatterplot(x=candy_data['sugarpercent'], y=candy_data['winpercent']) # Your code here\n",
    "\n",
    "# Check your answer\n",
    "step_3.a.check()"
   ]
  },
  {
   "cell_type": "code",
   "execution_count": 9,
   "id": "36d8164a",
   "metadata": {
    "execution": {
     "iopub.execute_input": "2022-07-29T23:52:28.120993Z",
     "iopub.status.busy": "2022-07-29T23:52:28.120580Z",
     "iopub.status.idle": "2022-07-29T23:52:28.125007Z",
     "shell.execute_reply": "2022-07-29T23:52:28.123960Z"
    },
    "papermill": {
     "duration": 0.019532,
     "end_time": "2022-07-29T23:52:28.127159",
     "exception": false,
     "start_time": "2022-07-29T23:52:28.107627",
     "status": "completed"
    },
    "tags": []
   },
   "outputs": [],
   "source": [
    "# Lines below will give you a hint or solution code\n",
    "#step_3.a.hint()\n",
    "#step_3.a.solution_plot()"
   ]
  },
  {
   "cell_type": "markdown",
   "id": "1f07a8fa",
   "metadata": {
    "papermill": {
     "duration": 0.011133,
     "end_time": "2022-07-29T23:52:28.150614",
     "exception": false,
     "start_time": "2022-07-29T23:52:28.139481",
     "status": "completed"
    },
    "tags": []
   },
   "source": [
    "#### Part B\n",
    "\n",
    "Does the scatter plot show a **strong** correlation between the two variables?  If so, are candies with more sugar relatively more or less popular with the survey respondents?"
   ]
  },
  {
   "cell_type": "code",
   "execution_count": 10,
   "id": "c82041d9",
   "metadata": {
    "execution": {
     "iopub.execute_input": "2022-07-29T23:52:28.176216Z",
     "iopub.status.busy": "2022-07-29T23:52:28.175512Z",
     "iopub.status.idle": "2022-07-29T23:52:28.179641Z",
     "shell.execute_reply": "2022-07-29T23:52:28.178749Z"
    },
    "papermill": {
     "duration": 0.019224,
     "end_time": "2022-07-29T23:52:28.181878",
     "exception": false,
     "start_time": "2022-07-29T23:52:28.162654",
     "status": "completed"
    },
    "tags": []
   },
   "outputs": [],
   "source": [
    "#step_3.b.hint()"
   ]
  },
  {
   "cell_type": "code",
   "execution_count": 11,
   "id": "19719058",
   "metadata": {
    "execution": {
     "iopub.execute_input": "2022-07-29T23:52:28.207254Z",
     "iopub.status.busy": "2022-07-29T23:52:28.206529Z",
     "iopub.status.idle": "2022-07-29T23:52:28.213955Z",
     "shell.execute_reply": "2022-07-29T23:52:28.212865Z"
    },
    "papermill": {
     "duration": 0.022415,
     "end_time": "2022-07-29T23:52:28.216065",
     "exception": false,
     "start_time": "2022-07-29T23:52:28.193650",
     "status": "completed"
    },
    "tags": []
   },
   "outputs": [
    {
     "data": {
      "application/javascript": [
       "parent.postMessage({\"jupyterEvent\": \"custom.exercise_interaction\", \"data\": {\"interactionType\": 3, \"questionType\": 4, \"questionId\": \"3.2_ThinkBlueScatter\", \"learnToolsVersion\": \"0.3.4\", \"valueTowardsCompletion\": 0.0, \"failureMessage\": \"\", \"exceptionClass\": \"\", \"trace\": \"\", \"outcomeType\": 4}}, \"*\")"
      ],
      "text/plain": [
       "<IPython.core.display.Javascript object>"
      ]
     },
     "metadata": {},
     "output_type": "display_data"
    },
    {
     "data": {
      "text/markdown": [
       "<span style=\"color:#33cc99\">Solution:</span> The scatter plot does not show a strong correlation between the two variables. Since there is no clear relationship between the two variables, this tells us that sugar content does not play a strong role in candy popularity."
      ],
      "text/plain": [
       "Solution: The scatter plot does not show a strong correlation between the two variables. Since there is no clear relationship between the two variables, this tells us that sugar content does not play a strong role in candy popularity."
      ]
     },
     "metadata": {},
     "output_type": "display_data"
    }
   ],
   "source": [
    "# Check your answer (Run this code cell to receive credit!)\n",
    "step_3.b.solution()"
   ]
  },
  {
   "cell_type": "markdown",
   "id": "d9e3dd99",
   "metadata": {
    "papermill": {
     "duration": 0.011554,
     "end_time": "2022-07-29T23:52:28.239576",
     "exception": false,
     "start_time": "2022-07-29T23:52:28.228022",
     "status": "completed"
    },
    "tags": []
   },
   "source": [
    "## Step 4: Take a closer look\n",
    "\n",
    "#### Part A\n",
    "\n",
    "Create the same scatter plot you created in **Step 3**, but now with a regression line!"
   ]
  },
  {
   "cell_type": "code",
   "execution_count": 12,
   "id": "5ccdfd0e",
   "metadata": {
    "execution": {
     "iopub.execute_input": "2022-07-29T23:52:28.265592Z",
     "iopub.status.busy": "2022-07-29T23:52:28.264874Z",
     "iopub.status.idle": "2022-07-29T23:52:28.570232Z",
     "shell.execute_reply": "2022-07-29T23:52:28.569065Z"
    },
    "papermill": {
     "duration": 0.321285,
     "end_time": "2022-07-29T23:52:28.572761",
     "exception": false,
     "start_time": "2022-07-29T23:52:28.251476",
     "status": "completed"
    },
    "tags": []
   },
   "outputs": [
    {
     "data": {
      "application/javascript": [
       "parent.postMessage({\"jupyterEvent\": \"custom.exercise_interaction\", \"data\": {\"outcomeType\": 1, \"valueTowardsCompletion\": 0.3333333333333333, \"interactionType\": 1, \"questionType\": 2, \"questionId\": \"4.1_PlotBlueReg\", \"learnToolsVersion\": \"0.3.4\", \"failureMessage\": \"\", \"exceptionClass\": \"\", \"trace\": \"\"}}, \"*\")"
      ],
      "text/plain": [
       "<IPython.core.display.Javascript object>"
      ]
     },
     "metadata": {},
     "output_type": "display_data"
    },
    {
     "data": {
      "text/markdown": [
       "<span style=\"color:#33cc33\">Correct</span>"
      ],
      "text/plain": [
       "Correct"
      ]
     },
     "metadata": {},
     "output_type": "display_data"
    },
    {
     "data": {
      "image/png": "[encoded data removed]",
      "text/plain": [
       "<Figure size 432x288 with 1 Axes>"
      ]
     },
     "metadata": {
      "needs_background": "light"
     },
     "output_type": "display_data"
    }
   ],
   "source": [
    "# Scatter plot w/ regression line showing the relationship between 'sugarpercent' and 'winpercent'\n",
    "sns.regplot(x=candy_data['sugarpercent'], y=candy_data['winpercent']) # Your code here\n",
    "\n",
    "# Check your answer\n",
    "step_4.a.check()"
   ]
  },
  {
   "cell_type": "code",
   "execution_count": 13,
   "id": "104368c6",
   "metadata": {
    "execution": {
     "iopub.execute_input": "2022-07-29T23:52:28.599373Z",
     "iopub.status.busy": "2022-07-29T23:52:28.598986Z",
     "iopub.status.idle": "2022-07-29T23:52:28.603680Z",
     "shell.execute_reply": "2022-07-29T23:52:28.602632Z"
    },
    "papermill": {
     "duration": 0.020724,
     "end_time": "2022-07-29T23:52:28.605911",
     "exception": false,
     "start_time": "2022-07-29T23:52:28.585187",
     "status": "completed"
    },
    "tags": []
   },
   "outputs": [],
   "source": [
    "# Lines below will give you a hint or solution code\n",
    "#step_4.a.hint()\n",
    "#step_4.a.solution_plot()"
   ]
  },
  {
   "cell_type": "markdown",
   "id": "9fad3df0",
   "metadata": {
    "papermill": {
     "duration": 0.012129,
     "end_time": "2022-07-29T23:52:28.630827",
     "exception": false,
     "start_time": "2022-07-29T23:52:28.618698",
     "status": "completed"
    },
    "tags": []
   },
   "source": [
    "#### Part B\n",
    "\n",
    "According to the plot above, is there a **slight** correlation between `'winpercent'` and `'sugarpercent'`?  What does this tell you about the candy that people tend to prefer?"
   ]
  },
  {
   "cell_type": "code",
   "execution_count": 14,
   "id": "042593ea",
   "metadata": {
    "execution": {
     "iopub.execute_input": "2022-07-29T23:52:28.657598Z",
     "iopub.status.busy": "2022-07-29T23:52:28.657188Z",
     "iopub.status.idle": "2022-07-29T23:52:28.661954Z",
     "shell.execute_reply": "2022-07-29T23:52:28.660848Z"
    },
    "papermill": {
     "duration": 0.020723,
     "end_time": "2022-07-29T23:52:28.664105",
     "exception": false,
     "start_time": "2022-07-29T23:52:28.643382",
     "status": "completed"
    },
    "tags": []
   },
   "outputs": [],
   "source": [
    "#step_4.b.hint()"
   ]
  },
  {
   "cell_type": "code",
   "execution_count": 15,
   "id": "a4d53518",
   "metadata": {
    "execution": {
     "iopub.execute_input": "2022-07-29T23:52:28.691190Z",
     "iopub.status.busy": "2022-07-29T23:52:28.690355Z",
     "iopub.status.idle": "2022-07-29T23:52:28.699387Z",
     "shell.execute_reply": "2022-07-29T23:52:28.698577Z"
    },
    "papermill": {
     "duration": 0.025082,
     "end_time": "2022-07-29T23:52:28.701612",
     "exception": false,
     "start_time": "2022-07-29T23:52:28.676530",
     "status": "completed"
    },
    "tags": []
   },
   "outputs": [
    {
     "data": {
      "application/javascript": [
       "parent.postMessage({\"jupyterEvent\": \"custom.exercise_interaction\", \"data\": {\"interactionType\": 3, \"questionType\": 4, \"questionId\": \"4.2_ThinkBlueReg\", \"learnToolsVersion\": \"0.3.4\", \"valueTowardsCompletion\": 0.0, \"failureMessage\": \"\", \"exceptionClass\": \"\", \"trace\": \"\", \"outcomeType\": 4}}, \"*\")"
      ],
      "text/plain": [
       "<IPython.core.display.Javascript object>"
      ]
     },
     "metadata": {},
     "output_type": "display_data"
    },
    {
     "data": {
      "text/markdown": [
       "<span style=\"color:#33cc99\">Solution:</span> Since the regression line has a slightly positive slope, this tells us that there is a slightly positive correlation between `'winpercent'` and `'sugarpercent'`. Thus, people have a slight preference for candies containing relatively more sugar."
      ],
      "text/plain": [
       "Solution: Since the regression line has a slightly positive slope, this tells us that there is a slightly positive correlation between `'winpercent'` and `'sugarpercent'`. Thus, people have a slight preference for candies containing relatively more sugar."
      ]
     },
     "metadata": {},
     "output_type": "display_data"
    }
   ],
   "source": [
    "# Check your answer (Run this code cell to receive credit!)\n",
    "step_4.b.solution()"
   ]
  },
  {
   "cell_type": "markdown",
   "id": "7040d650",
   "metadata": {
    "papermill": {
     "duration": 0.012194,
     "end_time": "2022-07-29T23:52:28.726293",
     "exception": false,
     "start_time": "2022-07-29T23:52:28.714099",
     "status": "completed"
    },
    "tags": []
   },
   "source": [
    "## Step 5: Chocolate!\n",
    "\n",
    "In the code cell below, create a scatter plot to show the relationship between `'pricepercent'` (on the horizontal x-axis) and `'winpercent'` (on the vertical y-axis). Use the `'chocolate'` column to color-code the points.  _Don't add any regression lines just yet -- you'll do that in the next step!_"
   ]
  },
  {
   "cell_type": "code",
   "execution_count": 16,
   "id": "ab9419a8",
   "metadata": {
    "execution": {
     "iopub.execute_input": "2022-07-29T23:52:28.753684Z",
     "iopub.status.busy": "2022-07-29T23:52:28.753293Z",
     "iopub.status.idle": "2022-07-29T23:52:29.008390Z",
     "shell.execute_reply": "2022-07-29T23:52:29.007551Z"
    },
    "papermill": {
     "duration": 0.271678,
     "end_time": "2022-07-29T23:52:29.010789",
     "exception": false,
     "start_time": "2022-07-29T23:52:28.739111",
     "status": "completed"
    },
    "tags": []
   },
   "outputs": [
    {
     "data": {
      "application/javascript": [
       "parent.postMessage({\"jupyterEvent\": \"custom.exercise_interaction\", \"data\": {\"outcomeType\": 1, \"valueTowardsCompletion\": 0.3333333333333333, \"interactionType\": 1, \"questionType\": 2, \"questionId\": \"5_ColorScatter\", \"learnToolsVersion\": \"0.3.4\", \"failureMessage\": \"\", \"exceptionClass\": \"\", \"trace\": \"\"}}, \"*\")"
      ],
      "text/plain": [
       "<IPython.core.display.Javascript object>"
      ]
     },
     "metadata": {},
     "output_type": "display_data"
    },
    {
     "data": {
      "text/markdown": [
       "<span style=\"color:#33cc33\">Correct</span>"
      ],
      "text/plain": [
       "Correct"
      ]
     },
     "metadata": {},
     "output_type": "display_data"
    },
    {
     "data": {
      "image/png": "[encoded data removed]",
      "text/plain": [
       "<Figure size 432x288 with 1 Axes>"
      ]
     },
     "metadata": {
      "needs_background": "light"
     },
     "output_type": "display_data"
    }
   ],
   "source": [
    "# Scatter plot showing the relationship between 'pricepercent', 'winpercent', and 'chocolate'\n",
    "sns.scatterplot(x=candy_data['pricepercent'], y=candy_data['winpercent'], hue=candy_data['chocolate']) # Your code here\n",
    "\n",
    "# Check your answer\n",
    "step_5.check()"
   ]
  },
  {
   "cell_type": "code",
   "execution_count": 17,
   "id": "9e08a193",
   "metadata": {
    "execution": {
     "iopub.execute_input": "2022-07-29T23:52:29.040113Z",
     "iopub.status.busy": "2022-07-29T23:52:29.039208Z",
     "iopub.status.idle": "2022-07-29T23:52:29.045085Z",
     "shell.execute_reply": "2022-07-29T23:52:29.044355Z"
    },
    "papermill": {
     "duration": 0.023029,
     "end_time": "2022-07-29T23:52:29.047289",
     "exception": false,
     "start_time": "2022-07-29T23:52:29.024260",
     "status": "completed"
    },
    "tags": []
   },
   "outputs": [],
   "source": [
    "# Lines below will give you a hint or solution code\n",
    "#step_5.hint()\n",
    "#step_5.solution_plot()"
   ]
  },
  {
   "cell_type": "markdown",
   "id": "b91cfd2e",
   "metadata": {
    "papermill": {
     "duration": 0.013002,
     "end_time": "2022-07-29T23:52:29.073658",
     "exception": false,
     "start_time": "2022-07-29T23:52:29.060656",
     "status": "completed"
    },
    "tags": []
   },
   "source": [
    "Can you see any interesting patterns in the scatter plot?  We'll investigate this plot further  by adding regression lines in the next step!\n",
    "\n",
    "## Step 6: Investigate chocolate\n",
    "\n",
    "#### Part A\n",
    "\n",
    "Create the same scatter plot you created in **Step 5**, but now with two regression lines, corresponding to (1) chocolate candies and (2) candies without chocolate."
   ]
  },
  {
   "cell_type": "code",
   "execution_count": 18,
   "id": "64e8772b",
   "metadata": {
    "execution": {
     "iopub.execute_input": "2022-07-29T23:52:29.102103Z",
     "iopub.status.busy": "2022-07-29T23:52:29.101717Z",
     "iopub.status.idle": "2022-07-29T23:52:29.693091Z",
     "shell.execute_reply": "2022-07-29T23:52:29.691962Z"
    },
    "papermill": {
     "duration": 0.608532,
     "end_time": "2022-07-29T23:52:29.695472",
     "exception": false,
     "start_time": "2022-07-29T23:52:29.086940",
     "status": "completed"
    },
    "tags": []
   },
   "outputs": [
    {
     "data": {
      "application/javascript": [
       "parent.postMessage({\"jupyterEvent\": \"custom.exercise_interaction\", \"data\": {\"outcomeType\": 1, \"valueTowardsCompletion\": 0.3333333333333333, \"interactionType\": 1, \"questionType\": 2, \"questionId\": \"6.1_PlotColorReg\", \"learnToolsVersion\": \"0.3.4\", \"failureMessage\": \"\", \"exceptionClass\": \"\", \"trace\": \"\"}}, \"*\")"
      ],
      "text/plain": [
       "<IPython.core.display.Javascript object>"
      ]
     },
     "metadata": {},
     "output_type": "display_data"
    },
    {
     "data": {
      "text/markdown": [
       "<span style=\"color:#33cc33\">Correct</span>"
      ],
      "text/plain": [
       "Correct"
      ]
     },
     "metadata": {},
     "output_type": "display_data"
    },
    {
     "data": {
      "image/png": "[encoded data removed]",
      "text/plain": [
       "<Figure size 416.375x360 with 1 Axes>"
      ]
     },
     "metadata": {
      "needs_background": "light"
     },
     "output_type": "display_data"
    }
   ],
   "source": [
    "# Color-coded scatter plot w/ regression lines\n",
    "sns.lmplot(x=\"pricepercent\", y=\"winpercent\", hue=\"chocolate\", data=candy_data) # Your code here\n",
    "\n",
    "# Check your answer\n",
    "step_6.a.check()"
   ]
  },
  {
   "cell_type": "code",
   "execution_count": 19,
   "id": "6841eadc",
   "metadata": {
    "execution": {
     "iopub.execute_input": "2022-07-29T23:52:29.727211Z",
     "iopub.status.busy": "2022-07-29T23:52:29.726167Z",
     "iopub.status.idle": "2022-07-29T23:52:29.730388Z",
     "shell.execute_reply": "2022-07-29T23:52:29.729683Z"
    },
    "papermill": {
     "duration": 0.022086,
     "end_time": "2022-07-29T23:52:29.732396",
     "exception": false,
     "start_time": "2022-07-29T23:52:29.710310",
     "status": "completed"
    },
    "tags": []
   },
   "outputs": [],
   "source": [
    "# Lines below will give you a hint or solution code\n",
    "#step_6.a.hint()\n",
    "#step_6.a.solution_plot()"
   ]
  },
  {
   "cell_type": "markdown",
   "id": "941a12f4",
   "metadata": {
    "papermill": {
     "duration": 0.013746,
     "end_time": "2022-07-29T23:52:29.760580",
     "exception": false,
     "start_time": "2022-07-29T23:52:29.746834",
     "status": "completed"
    },
    "tags": []
   },
   "source": [
    "#### Part B\n",
    "\n",
    "Using the regression lines, what conclusions can you draw about the effects of chocolate and price on candy popularity?"
   ]
  },
  {
   "cell_type": "code",
   "execution_count": 20,
   "id": "a8c62175",
   "metadata": {
    "execution": {
     "iopub.execute_input": "2022-07-29T23:52:29.790944Z",
     "iopub.status.busy": "2022-07-29T23:52:29.789787Z",
     "iopub.status.idle": "2022-07-29T23:52:29.794104Z",
     "shell.execute_reply": "2022-07-29T23:52:29.793374Z"
    },
    "papermill": {
     "duration": 0.021612,
     "end_time": "2022-07-29T23:52:29.796176",
     "exception": false,
     "start_time": "2022-07-29T23:52:29.774564",
     "status": "completed"
    },
    "tags": []
   },
   "outputs": [],
   "source": [
    "#step_6.b.hint()"
   ]
  },
  {
   "cell_type": "code",
   "execution_count": 21,
   "id": "93b81933",
   "metadata": {
    "execution": {
     "iopub.execute_input": "2022-07-29T23:52:29.826516Z",
     "iopub.status.busy": "2022-07-29T23:52:29.825790Z",
     "iopub.status.idle": "2022-07-29T23:52:29.832785Z",
     "shell.execute_reply": "2022-07-29T23:52:29.832023Z"
    },
    "papermill": {
     "duration": 0.024301,
     "end_time": "2022-07-29T23:52:29.834713",
     "exception": false,
     "start_time": "2022-07-29T23:52:29.810412",
     "status": "completed"
    },
    "tags": []
   },
   "outputs": [
    {
     "data": {
      "application/javascript": [
       "parent.postMessage({\"jupyterEvent\": \"custom.exercise_interaction\", \"data\": {\"interactionType\": 3, \"questionType\": 4, \"questionId\": \"6.2_ThinkColorReg\", \"learnToolsVersion\": \"0.3.4\", \"valueTowardsCompletion\": 0.0, \"failureMessage\": \"\", \"exceptionClass\": \"\", \"trace\": \"\", \"outcomeType\": 4}}, \"*\")"
      ],
      "text/plain": [
       "<IPython.core.display.Javascript object>"
      ]
     },
     "metadata": {},
     "output_type": "display_data"
    },
    {
     "data": {
      "text/markdown": [
       "<span style=\"color:#33cc99\">Solution:</span> We'll begin with the regression line for chocolate candies. Since this line has a slightly positive slope, we can say that more expensive chocolate candies tend to be more popular (than relatively cheaper chocolate candies).  Likewise, since the regression line for candies without chocolate has a negative slope, we can say that if candies don't contain chocolate, they tend to be more popular when they are cheaper.  One important note, however, is that the dataset is quite small -- so we shouldn't invest too much trust in these patterns!  To inspire more confidence in the results, we should add more candies to the dataset."
      ],
      "text/plain": [
       "Solution: We'll begin with the regression line for chocolate candies. Since this line has a slightly positive slope, we can say that more expensive chocolate candies tend to be more popular (than relatively cheaper chocolate candies).  Likewise, since the regression line for candies without chocolate has a negative slope, we can say that if candies don't contain chocolate, they tend to be more popular when they are cheaper.  One important note, however, is that the dataset is quite small -- so we shouldn't invest too much trust in these patterns!  To inspire more confidence in the results, we should add more candies to the dataset."
      ]
     },
     "metadata": {},
     "output_type": "display_data"
    }
   ],
   "source": [
    "# Check your answer (Run this code cell to receive credit!)\n",
    "step_6.b.solution()"
   ]
  },
  {
   "cell_type": "markdown",
   "id": "56279b2f",
   "metadata": {
    "papermill": {
     "duration": 0.014401,
     "end_time": "2022-07-29T23:52:29.863543",
     "exception": false,
     "start_time": "2022-07-29T23:52:29.849142",
     "status": "completed"
    },
    "tags": []
   },
   "source": [
    "## Step 7: Everybody loves chocolate.\n",
    "\n",
    "#### Part A\n",
    "\n",
    "Create a categorical scatter plot to highlight the relationship between `'chocolate'` and `'winpercent'`.  Put `'chocolate'` on the (horizontal) x-axis, and `'winpercent'` on the (vertical) y-axis."
   ]
  },
  {
   "cell_type": "code",
   "execution_count": 22,
   "id": "797df6c2",
   "metadata": {
    "execution": {
     "iopub.execute_input": "2022-07-29T23:52:29.894707Z",
     "iopub.status.busy": "2022-07-29T23:52:29.894261Z",
     "iopub.status.idle": "2022-07-29T23:52:30.083414Z",
     "shell.execute_reply": "2022-07-29T23:52:30.082560Z"
    },
    "papermill": {
     "duration": 0.207342,
     "end_time": "2022-07-29T23:52:30.085608",
     "exception": false,
     "start_time": "2022-07-29T23:52:29.878266",
     "status": "completed"
    },
    "tags": []
   },
   "outputs": [
    {
     "data": {
      "application/javascript": [
       "parent.postMessage({\"jupyterEvent\": \"custom.exercise_interaction\", \"data\": {\"outcomeType\": 1, \"valueTowardsCompletion\": 0.3333333333333333, \"interactionType\": 1, \"questionType\": 2, \"questionId\": \"7.1_PlotSwarm\", \"learnToolsVersion\": \"0.3.4\", \"failureMessage\": \"\", \"exceptionClass\": \"\", \"trace\": \"\"}}, \"*\")"
      ],
      "text/plain": [
       "<IPython.core.display.Javascript object>"
      ]
     },
     "metadata": {},
     "output_type": "display_data"
    },
    {
     "data": {
      "text/markdown": [
       "<span style=\"color:#33cc33\">Correct</span>"
      ],
      "text/plain": [
       "Correct"
      ]
     },
     "metadata": {},
     "output_type": "display_data"
    },
    {
     "data": {
      "image/png": "[encoded data removed]",
      "text/plain": [
       "<Figure size 432x288 with 1 Axes>"
      ]
     },
     "metadata": {
      "needs_background": "light"
     },
     "output_type": "display_data"
    }
   ],
   "source": [
    "# Scatter plot showing the relationship between 'chocolate' and 'winpercent'\n",
    "sns.swarmplot(x=candy_data['chocolate'], y=candy_data['winpercent']) # Your code here\n",
    "\n",
    "# Check your answer\n",
    "step_7.a.check()"
   ]
  },
  {
   "cell_type": "code",
   "execution_count": 23,
   "id": "188f9d8b",
   "metadata": {
    "execution": {
     "iopub.execute_input": "2022-07-29T23:52:30.118235Z",
     "iopub.status.busy": "2022-07-29T23:52:30.117213Z",
     "iopub.status.idle": "2022-07-29T23:52:30.121323Z",
     "shell.execute_reply": "2022-07-29T23:52:30.120615Z"
    },
    "papermill": {
     "duration": 0.022631,
     "end_time": "2022-07-29T23:52:30.123320",
     "exception": false,
     "start_time": "2022-07-29T23:52:30.100689",
     "status": "completed"
    },
    "tags": []
   },
   "outputs": [],
   "source": [
    "# Lines below will give you a hint or solution code\n",
    "#step_7.a.hint()\n",
    "#step_7.a.solution_plot()"
   ]
  },
  {
   "cell_type": "markdown",
   "id": "50bd53b0",
   "metadata": {
    "papermill": {
     "duration": 0.01454,
     "end_time": "2022-07-29T23:52:30.152810",
     "exception": false,
     "start_time": "2022-07-29T23:52:30.138270",
     "status": "completed"
    },
    "tags": []
   },
   "source": [
    "#### Part B\n",
    "\n",
    "You decide to dedicate a section of your report to the fact that chocolate candies tend to be more popular than candies without chocolate.  Which plot is more appropriate to tell this story: the plot from **Step 6**, or the plot from **Step 7**?"
   ]
  },
  {
   "cell_type": "code",
   "execution_count": 24,
   "id": "0fcf3c40",
   "metadata": {
    "execution": {
     "iopub.execute_input": "2022-07-29T23:52:30.184974Z",
     "iopub.status.busy": "2022-07-29T23:52:30.184302Z",
     "iopub.status.idle": "2022-07-29T23:52:30.188246Z",
     "shell.execute_reply": "2022-07-29T23:52:30.187435Z"
    },
    "papermill": {
     "duration": 0.022309,
     "end_time": "2022-07-29T23:52:30.190342",
     "exception": false,
     "start_time": "2022-07-29T23:52:30.168033",
     "status": "completed"
    },
    "tags": []
   },
   "outputs": [],
   "source": [
    "#step_7.b.hint()"
   ]
  },
  {
   "cell_type": "code",
   "execution_count": 25,
   "id": "7e2d6afa",
   "metadata": {
    "execution": {
     "iopub.execute_input": "2022-07-29T23:52:30.222470Z",
     "iopub.status.busy": "2022-07-29T23:52:30.221432Z",
     "iopub.status.idle": "2022-07-29T23:52:30.231039Z",
     "shell.execute_reply": "2022-07-29T23:52:30.229942Z"
    },
    "papermill": {
     "duration": 0.028008,
     "end_time": "2022-07-29T23:52:30.233240",
     "exception": false,
     "start_time": "2022-07-29T23:52:30.205232",
     "status": "completed"
    },
    "tags": []
   },
   "outputs": [
    {
     "data": {
      "application/javascript": [
       "parent.postMessage({\"jupyterEvent\": \"custom.exercise_interaction\", \"data\": {\"interactionType\": 3, \"questionType\": 4, \"questionId\": \"7.2_ThinkSwarm\", \"learnToolsVersion\": \"0.3.4\", \"valueTowardsCompletion\": 0.0, \"failureMessage\": \"\", \"exceptionClass\": \"\", \"trace\": \"\", \"outcomeType\": 4}}, \"*\")"
      ],
      "text/plain": [
       "<IPython.core.display.Javascript object>"
      ]
     },
     "metadata": {},
     "output_type": "display_data"
    },
    {
     "data": {
      "text/markdown": [
       "<span style=\"color:#33cc99\">Solution:</span> In this case, the categorical scatter plot from **Step 7** is the more appropriate plot. While both plots tell the desired story, the plot from **Step 6** conveys far more information that could distract from the main point."
      ],
      "text/plain": [
       "Solution: In this case, the categorical scatter plot from **Step 7** is the more appropriate plot. While both plots tell the desired story, the plot from **Step 6** conveys far more information that could distract from the main point."
      ]
     },
     "metadata": {},
     "output_type": "display_data"
    }
   ],
   "source": [
    "# Check your answer (Run this code cell to receive credit!)\n",
    "step_7.b.solution()"
   ]
  },
  {
   "cell_type": "markdown",
   "id": "b179f4e7",
   "metadata": {
    "papermill": {
     "duration": 0.01481,
     "end_time": "2022-07-29T23:52:30.263266",
     "exception": false,
     "start_time": "2022-07-29T23:52:30.248456",
     "status": "completed"
    },
    "tags": []
   },
   "source": [
    "## Keep going\n",
    "\n",
    "Explore **[histograms and density plots](https://www.kaggle.com/alexisbcook/distributions)**."
   ]
  },
  {
   "cell_type": "markdown",
   "id": "e9542632",
   "metadata": {
    "papermill": {
     "duration": 0.014693,
     "end_time": "2022-07-29T23:52:30.293444",
     "exception": false,
     "start_time": "2022-07-29T23:52:30.278751",
     "status": "completed"
    },
    "tags": []
   },
   "source": [
    "---\n",
    "\n",
    "\n",
    "\n",
    "\n",
    "*Have questions or comments? Visit the [course discussion forum](https://www.kaggle.com/learn/data-visualization/discussion) to chat with other learners.*"
   ]
  }
 ],
 "metadata": {
  "kernelspec": {
   "display_name": "Python 3",
   "language": "python",
   "name": "python3"
  },
  "language_info": {
   "codemirror_mode": {
    "name": "ipython",
    "version": 3
   },
   "file_extension": ".py",
   "mimetype": "text/x-python",
   "name": "python",
   "nbconvert_exporter": "python",
   "pygments_lexer": "ipython3",
   "version": "3.7.12"
  },
  "papermill": {
   "default_parameters": {},
   "duration": 14.457203,
   "end_time": "2022-07-29T23:52:31.031599",
   "environment_variables": {},
   "exception": null,
   "input_path": "__notebook__.ipynb",
   "output_path": "__notebook__.ipynb",
   "parameters": {},
   "start_time": "2022-07-29T23:52:16.574396",
   "version": "2.3.4"
  }
 },
 "nbformat": 4,
 "nbformat_minor": 5
}
